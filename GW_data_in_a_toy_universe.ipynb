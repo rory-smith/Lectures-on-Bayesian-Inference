{
  "nbformat": 4,
  "nbformat_minor": 0,
  "metadata": {
    "colab": {
      "name": "GW data in a toy universe.ipynb",
      "provenance": [],
      "authorship_tag": "ABX9TyMr+cNcU9oLNfAklmmrrDV2",
      "include_colab_link": true
    },
    "kernelspec": {
      "name": "python3",
      "display_name": "Python 3"
    },
    "language_info": {
      "name": "python"
    }
  },
  "cells": [
    {
      "cell_type": "markdown",
      "metadata": {
        "id": "view-in-github",
        "colab_type": "text"
      },
      "source": [
        "<a href=\"https://colab.research.google.com/github/rory-smith/Lectures-on-Bayesian-Inference/blob/master/GW_data_in_a_toy_universe.ipynb\" target=\"_parent\"><img src=\"https://colab.research.google.com/assets/colab-badge.svg\" alt=\"Open In Colab\"/></a>"
      ]
    },
    {
      "cell_type": "code",
      "execution_count": 4,
      "metadata": {
        "id": "QUYAPUwxoWt2"
      },
      "outputs": [],
      "source": [
        "import requests, os\n",
        "import matplotlib.pyplot as plt\n",
        "%config InlineBackend.figure_format = 'retina'\n"
      ]
    },
    {
      "cell_type": "code",
      "source": [
        "!pip install lalsuite"
      ],
      "metadata": {
        "colab": {
          "base_uri": "https://localhost:8080/"
        },
        "id": "9OlwQTQEMUKn",
        "outputId": "c8207b83-357c-4a32-aad2-686f096afade"
      },
      "execution_count": 5,
      "outputs": [
        {
          "output_type": "stream",
          "name": "stdout",
          "text": [
            "Looking in indexes: https://pypi.org/simple, https://us-python.pkg.dev/colab-wheels/public/simple/\n",
            "Requirement already satisfied: lalsuite in /usr/local/lib/python3.7/dist-packages (7.5)\n",
            "Requirement already satisfied: python-dateutil in /usr/local/lib/python3.7/dist-packages (from lalsuite) (2.8.2)\n",
            "Requirement already satisfied: matplotlib in /usr/local/lib/python3.7/dist-packages (from lalsuite) (3.2.2)\n",
            "Requirement already satisfied: ligo-segments in /usr/local/lib/python3.7/dist-packages (from lalsuite) (1.4.0)\n",
            "Requirement already satisfied: numpy>=1.7 in /usr/local/lib/python3.7/dist-packages (from lalsuite) (1.21.6)\n",
            "Requirement already satisfied: lscsoft-glue in /usr/local/lib/python3.7/dist-packages (from lalsuite) (3.0.1)\n",
            "Requirement already satisfied: scipy in /usr/local/lib/python3.7/dist-packages (from lalsuite) (1.7.3)\n",
            "Requirement already satisfied: six in /usr/local/lib/python3.7/dist-packages (from ligo-segments->lalsuite) (1.15.0)\n",
            "Requirement already satisfied: pyRXP in /usr/local/lib/python3.7/dist-packages (from lscsoft-glue->lalsuite) (3.0.1)\n",
            "Requirement already satisfied: pyOpenSSL in /usr/local/lib/python3.7/dist-packages (from lscsoft-glue->lalsuite) (22.0.0)\n",
            "Requirement already satisfied: cycler>=0.10 in /usr/local/lib/python3.7/dist-packages (from matplotlib->lalsuite) (0.11.0)\n",
            "Requirement already satisfied: pyparsing!=2.0.4,!=2.1.2,!=2.1.6,>=2.0.1 in /usr/local/lib/python3.7/dist-packages (from matplotlib->lalsuite) (3.0.9)\n",
            "Requirement already satisfied: kiwisolver>=1.0.1 in /usr/local/lib/python3.7/dist-packages (from matplotlib->lalsuite) (1.4.3)\n",
            "Requirement already satisfied: typing-extensions in /usr/local/lib/python3.7/dist-packages (from kiwisolver>=1.0.1->matplotlib->lalsuite) (4.1.1)\n",
            "Requirement already satisfied: cryptography>=35.0 in /usr/local/lib/python3.7/dist-packages (from pyOpenSSL->lscsoft-glue->lalsuite) (37.0.4)\n",
            "Requirement already satisfied: cffi>=1.12 in /usr/local/lib/python3.7/dist-packages (from cryptography>=35.0->pyOpenSSL->lscsoft-glue->lalsuite) (1.15.1)\n",
            "Requirement already satisfied: pycparser in /usr/local/lib/python3.7/dist-packages (from cffi>=1.12->cryptography>=35.0->pyOpenSSL->lscsoft-glue->lalsuite) (2.21)\n"
          ]
        }
      ]
    },
    {
      "cell_type": "code",
      "source": [
        "!pip install latex"
      ],
      "metadata": {
        "colab": {
          "base_uri": "https://localhost:8080/"
        },
        "id": "gYbv8JraZgRs",
        "outputId": "5128401f-8f1c-4557-9f79-d5c1c1b48e5b"
      },
      "execution_count": 6,
      "outputs": [
        {
          "output_type": "stream",
          "name": "stdout",
          "text": [
            "Looking in indexes: https://pypi.org/simple, https://us-python.pkg.dev/colab-wheels/public/simple/\n",
            "Requirement already satisfied: latex in /usr/local/lib/python3.7/dist-packages (0.7.0)\n",
            "Requirement already satisfied: shutilwhich in /usr/local/lib/python3.7/dist-packages (from latex) (1.1.0)\n",
            "Requirement already satisfied: data in /usr/local/lib/python3.7/dist-packages (from latex) (0.4)\n",
            "Requirement already satisfied: future in /usr/local/lib/python3.7/dist-packages (from latex) (0.16.0)\n",
            "Requirement already satisfied: tempdir in /usr/local/lib/python3.7/dist-packages (from latex) (0.7.1)\n",
            "Requirement already satisfied: funcsigs in /usr/local/lib/python3.7/dist-packages (from data->latex) (1.0.2)\n",
            "Requirement already satisfied: six in /usr/local/lib/python3.7/dist-packages (from data->latex) (1.15.0)\n",
            "Requirement already satisfied: decorator in /usr/local/lib/python3.7/dist-packages (from data->latex) (4.4.2)\n"
          ]
        }
      ]
    },
    {
      "cell_type": "code",
      "source": [
        "import lalsimulation as lalsim\n",
        "import numpy as np\n",
        "from scipy import stats\n",
        "import pylab as plt\n",
        "import lal\n",
        "import pandas as pd\n",
        "#plt.rcParams['text.usetex'] = True\n",
        "\n",
        "#plt.rcParams.update({\n",
        "#    \"text.usetex\": True,\n",
        "#   \"font.family\": \"sans-serif\",\n",
        "#    \"font.sans-serif\": [\"Helvetica\"]})"
      ],
      "metadata": {
        "id": "uyfBin1GMnCZ"
      },
      "execution_count": 33,
      "outputs": []
    },
    {
      "cell_type": "code",
      "source": [
        "def GW_detector_noise(N):\n",
        "\n",
        "\n",
        "  deltaF = 1/4.\n",
        "  noise_mean = 0\n",
        "  noise_var = lalsim.SimNoisePSDaLIGOZeroDetLowPower(150) / (4*deltaF)\n",
        "\n",
        "  noise_re = np.random.normal(loc=noise_mean, scale=np.sqrt(noise_var), size=int(N))\n",
        "  noise_imag = np.random.normal(loc=noise_mean, scale=np.sqrt(noise_var), size=int(N))\n",
        "\n",
        "  return noise_re + 1j*noise_imag"
      ],
      "metadata": {
        "id": "uSLUiwcpobRF"
      },
      "execution_count": 8,
      "outputs": []
    },
    {
      "cell_type": "code",
      "source": [
        "def prob_mtotal(N):\n",
        "\n",
        "  mtot_min = 30\n",
        "  mtot_max = 100\n",
        "  mtot_mean = 60\n",
        "  mtot_var = 10\n",
        "  a = (mtot_min-mtot_mean)/np.sqrt(mtot_var) # some annoying parameter for scipy function\n",
        "  b = (mtot_max-mtot_mean)/np.sqrt(mtot_var)\n",
        "  return stats.truncnorm.rvs(a, b, loc=mtot_mean, scale=np.sqrt(mtot_var),size=int(N))"
      ],
      "metadata": {
        "id": "PDkbYsm4SttB"
      },
      "execution_count": 9,
      "outputs": []
    },
    {
      "cell_type": "code",
      "source": [
        "# this is all bookkeepy stuff to allow us to evaluate a GW signal at GW frequency of 150Hz #####\n",
        "f = np.array([150])\n",
        "F = f#np.loadtxt(\"Freqs_long.txt\")\n",
        "F = lal.CreateREAL8Vector(len(F))\n",
        "F.data[:] =  f\n",
        "###############################################################################\n",
        "def GW_signal(Mtotal):\n",
        "\n",
        "  mass_ratio = 1 #all binaries in our universe contain equal-mass black holes\n",
        "  Dist = 1e5*lal.lal.PC_SI #all binary black holes are located 0.1Gpc from our detector\n",
        "  spin1x, spin1y, spin1z = 0, 0, 0 #black holes do not spin in our Universe\n",
        "  spin2x, spin2y, spin2z = 0, 0, 0 #black holes do not spin in our Universe\n",
        "  iota = 0 #all BBH obits are inclined such that their orbital plane is \"face on\"\n",
        "\n",
        "  m1, m2 = Mtotal/(1+mass_ratio), Mtotal/(1+mass_ratio)\n",
        "\n",
        "  m1 *= lal.lal.MSUN_SI #component mass into SI units\n",
        "  m2 *= lal.lal.MSUN_SI\n",
        "  WFdict = lal.CreateDict() #bookkeepy thing\n",
        "  h = lalsim.SimIMRPhenomXPHMFrequencySequence(F, m1, m2, spin1x, \\\n",
        "            spin1y, spin1z, spin2x, spin2y, spin2z, Dist, iota, 0, 150, WFdict)\n",
        "  \n",
        "  signal = h[0].data.data + h[1].data.data #equal parts plus and cross polarization\n",
        "  return signal"
      ],
      "metadata": {
        "id": "xr0e-DUpWrkg"
      },
      "execution_count": 10,
      "outputs": []
    },
    {
      "cell_type": "code",
      "source": [
        "GW_signal(30)"
      ],
      "metadata": {
        "colab": {
          "base_uri": "https://localhost:8080/"
        },
        "id": "ZNn7BlRNiPWA",
        "outputId": "66d288e9-85ab-45fb-e18a-0aa6416ef97a"
      },
      "execution_count": 11,
      "outputs": [
        {
          "output_type": "execute_result",
          "data": {
            "text/plain": [
              "array([-2.12103602e-20+2.17551062e-23j])"
            ]
          },
          "metadata": {},
          "execution_count": 11
        }
      ]
    },
    {
      "cell_type": "code",
      "source": [
        "noise_measurements = GW_detector_noise(1e4)"
      ],
      "metadata": {
        "id": "wVk4Ww1CSCg7"
      },
      "execution_count": 13,
      "outputs": []
    },
    {
      "cell_type": "code",
      "source": [
        "BBH_masses = prob_mtotal(1e4)"
      ],
      "metadata": {
        "id": "LBljYIudSGnN"
      },
      "execution_count": 14,
      "outputs": []
    },
    {
      "cell_type": "code",
      "source": [
        "signals = np.array([GW_signal(_m)[0] for _m in BBH_masses])"
      ],
      "metadata": {
        "id": "0bZa9wdlgQvP"
      },
      "execution_count": 24,
      "outputs": []
    },
    {
      "cell_type": "code",
      "source": [
        "data_set = signals + noise_measurements"
      ],
      "metadata": {
        "id": "u-XkSL8QkyRg"
      },
      "execution_count": 25,
      "outputs": []
    },
    {
      "cell_type": "code",
      "source": [
        "plt.hist(BBH_masses, density=True)\n",
        "plt.xlabel(r\"Total mass of binary black hole systems $(M_{sun})$\")\n",
        "plt.title(r\"Probability density of BBH total mass $\\pi(M_{total})$\")"
      ],
      "metadata": {
        "colab": {
          "base_uri": "https://localhost:8080/",
          "height": 315
        },
        "id": "dxRBhR-nUoPY",
        "outputId": "6beeb565-28da-499b-9da3-5c4700d3e983"
      },
      "execution_count": 21,
      "outputs": [
        {
          "output_type": "execute_result",
          "data": {
            "text/plain": [
              "Text(0.5, 1.0, 'Probability density of BBH total mass $\\\\pi(M_{total})$')"
            ]
          },
          "metadata": {},
          "execution_count": 21
        },
        {
          "output_type": "display_data",
          "data": {
            "text/plain": [
              "<Figure size 432x288 with 1 Axes>"
            ],
            "image/png": "[encoded data removed]"
          },
          "metadata": {
            "image/png": {
              "width": 378,
              "height": 280
            },
            "needs_background": "light"
          }
        }
      ]
    },
    {
      "cell_type": "code",
      "source": [
        ""
      ],
      "metadata": {
        "id": "r5kPWKBMUrhz"
      },
      "execution_count": 32,
      "outputs": []
    },
    {
      "cell_type": "code",
      "source": [
        "noise_measurements[0]"
      ],
      "metadata": {
        "colab": {
          "base_uri": "https://localhost:8080/"
        },
        "id": "9JWNEqXqUt-P",
        "outputId": "fdaab380-9284-448c-eb4b-b4e233d56ef0"
      },
      "execution_count": 30,
      "outputs": [
        {
          "output_type": "execute_result",
          "data": {
            "text/plain": [
              "(1.8740908113579062e-23+1.6056214275265694e-23j)"
            ]
          },
          "metadata": {},
          "execution_count": 30
        }
      ]
    },
    {
      "cell_type": "code",
      "source": [
        "noise_measurements.shape"
      ],
      "metadata": {
        "colab": {
          "base_uri": "https://localhost:8080/"
        },
        "id": "HW-A8vRhlLjI",
        "outputId": "0466b8ff-d824-4caf-c12b-833ec9585312"
      },
      "execution_count": 23,
      "outputs": [
        {
          "output_type": "execute_result",
          "data": {
            "text/plain": [
              "(10000,)"
            ]
          },
          "metadata": {},
          "execution_count": 23
        }
      ]
    },
    {
      "cell_type": "code",
      "source": [
        ""
      ],
      "metadata": {
        "id": "wtRBqBtgl18x"
      },
      "execution_count": null,
      "outputs": []
    }
  ]
}